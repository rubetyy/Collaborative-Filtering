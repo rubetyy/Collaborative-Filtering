{
 "cells": [
  {
   "cell_type": "code",
   "execution_count": 6,
   "id": "abandoned-vessel",
   "metadata": {
    "collapsed": true
   },
   "outputs": [
    {
     "name": "stdout",
     "output_type": "stream",
     "text": [
      "Collecting bs4Note: you may need to restart the kernel to use updated packages.\n",
      "\n",
      "  Downloading bs4-0.0.1.tar.gz (1.1 kB)\n",
      "Requirement already satisfied: beautifulsoup4 in c:\\users\\night\\appdata\\local\\programs\\python\\python38\\lib\\site-packages (from bs4) (4.9.3)\n",
      "Requirement already satisfied: soupsieve>1.2; python_version >= \"3.0\" in c:\\users\\night\\appdata\\local\\programs\\python\\python38\\lib\\site-packages (from beautifulsoup4->bs4) (2.2)\n",
      "Using legacy 'setup.py install' for bs4, since package 'wheel' is not installed.\n",
      "Installing collected packages: bs4\n",
      "    Running setup.py install for bs4: started\n",
      "    Running setup.py install for bs4: finished with status 'done'\n",
      "Successfully installed bs4-0.0.1\n"
     ]
    },
    {
     "name": "stderr",
     "output_type": "stream",
     "text": [
      "WARNING: You are using pip version 20.2.3; however, version 21.2.4 is available.\n",
      "You should consider upgrading via the 'c:\\users\\night\\appdata\\local\\programs\\python\\python38\\python.exe -m pip install --upgrade pip' command.\n"
     ]
    }
   ],
   "source": [
    "pip install bs4"
   ]
  },
  {
   "cell_type": "code",
   "execution_count": 7,
   "id": "explicit-twenty",
   "metadata": {
    "scrolled": false
   },
   "outputs": [
    {
     "name": "stdout",
     "output_type": "stream",
     "text": [
      "Requirement already satisfied: selenium in c:\\users\\night\\appdata\\local\\programs\\python\\python38\\lib\\site-packages (3.141.0)\n",
      "Requirement already satisfied: urllib3 in c:\\users\\night\\appdata\\local\\programs\\python\\python38\\lib\\site-packages (from selenium) (1.26.3)\n",
      "Note: you may need to restart the kernel to use updated packages.\n"
     ]
    },
    {
     "name": "stderr",
     "output_type": "stream",
     "text": [
      "WARNING: You are using pip version 20.2.3; however, version 21.2.4 is available.\n",
      "You should consider upgrading via the 'c:\\users\\night\\appdata\\local\\programs\\python\\python38\\python.exe -m pip install --upgrade pip' command.\n"
     ]
    }
   ],
   "source": [
    "pip install selenium"
   ]
  },
  {
   "cell_type": "code",
   "execution_count": 2,
   "id": "future-subject",
   "metadata": {},
   "outputs": [],
   "source": [
    "import requests as req\n",
    "from bs4 import BeautifulSoup as bs\n",
    "from urllib.request import urlretrieve\n",
    "import time\n",
    "from selenium import webdriver\n",
    "import pandas as pd\n",
    "import re"
   ]
  },
  {
   "cell_type": "code",
   "execution_count": 3,
   "id": "sensitive-pregnancy",
   "metadata": {},
   "outputs": [
    {
     "name": "stderr",
     "output_type": "stream",
     "text": [
      "c:\\users\\night\\appdata\\local\\programs\\python\\python38\\lib\\site-packages\\IPython\\core\\interactiveshell.py:3427: DtypeWarning: Columns (3) have mixed types.Specify dtype option on import or set low_memory=False.\n",
      "  exec(code_obj, self.user_global_ns, self.user_ns)\n"
     ]
    }
   ],
   "source": [
    "spot=pd.read_csv('전국관광지데이터.csv')\n",
    "items = spot.poi_nm\n",
    "\n",
    "# spot=pd.read_csv('전처리_광훈.csv')\n",
    "# items = spot.title"
   ]
  },
  {
   "cell_type": "code",
   "execution_count": 31,
   "id": "guilty-heritage",
   "metadata": {},
   "outputs": [],
   "source": [
    "items = items[:12400]\n",
    "# items = items[12400:24800]\n",
    "\n",
    "# items[24800:]\n",
    "\n",
    "# items[:12650]\n"
   ]
  },
  {
   "cell_type": "code",
   "execution_count": 32,
   "id": "infinite-lender",
   "metadata": {
    "scrolled": false
   },
   "outputs": [
    {
     "data": {
      "text/plain": [
       "0          호국전진사\n",
       "1        상주옹기판매장\n",
       "2         추월산관광지\n",
       "3           쇄기농장\n",
       "4            보타사\n",
       "          ...   \n",
       "12395        통일암\n",
       "12396        범천사\n",
       "12397        백련암\n",
       "12398       태양정사\n",
       "12399        봉용사\n",
       "Name: poi_nm, Length: 12400, dtype: object"
      ]
     },
     "execution_count": 32,
     "metadata": {},
     "output_type": "execute_result"
    }
   ],
   "source": [
    "items"
   ]
  },
  {
   "cell_type": "code",
   "execution_count": 6,
   "id": "floppy-disposal",
   "metadata": {},
   "outputs": [
    {
     "name": "stderr",
     "output_type": "stream",
     "text": [
      "<ipython-input-6-d9f55d16f68f>:8: DeprecationWarning: use options instead of chrome_options\n",
      "  driver=webdriver.Chrome(chrome_options=options)\n"
     ]
    },
    {
     "name": "stdout",
     "output_type": "stream",
     "text": [
      "진행상황 : 1/1\n",
      "식당 존재\n"
     ]
    },
    {
     "name": "stderr",
     "output_type": "stream",
     "text": [
      "<ipython-input-6-d9f55d16f68f>:45: DeprecationWarning: use driver.switch_to.window instead\n",
      "  driver.switch_to_window(tabs[1]) # 새 탭으로 이동\n"
     ]
    },
    {
     "name": "stdout",
     "output_type": "stream",
     "text": [
      "더 이상 리뷰 존재 X\n",
      "기본 페이지로 돌아가자\n"
     ]
    },
    {
     "name": "stderr",
     "output_type": "stream",
     "text": [
      "<ipython-input-6-d9f55d16f68f>:161: DeprecationWarning: use driver.switch_to.window instead\n",
      "  driver.switch_to_window(tabs[0])\n"
     ]
    }
   ],
   "source": [
    "options=webdriver.ChromeOptions()\n",
    "options.add_argument('user-agent=Mozilla/5.0 (Windows NT 10.0; Win64; x64) AppleWebKit/537.36 (KHTML, like Gecko) Chrome/93.0.4577.63 Safari/537.36'\n",
    ")\n",
    "# Mozilla/5.0 (Windows NT 10.0; Win64; x64) AppleWebKit/537.36 (KHTML, like Gecko) Chrome/93.0.4577.63 Safari/537.36\n",
    "options.add_argument('headless')\n",
    "\n",
    "\n",
    "driver=webdriver.Chrome(chrome_options=options)  \n",
    "time.sleep(3)\n",
    "\n",
    "\n",
    "\n",
    "# items = ['백수해안도로']\n",
    "# items = ['호국전진사','상주옹기판매장', '추월산관광지', '쇄기농장', '보타사', '안성팜랜드초원눈썰매장', '내장산단풍겨울빛축제','오대산선재길',\n",
    "#         '덕유산국립공원시인의거리','의왕자연학습공원의왕레일파크' ]\n",
    "\n",
    "rating_df = pd.DataFrame()\n",
    "review_elem = pd.DataFrame()\n",
    "img_elem = pd.DataFrame()\n",
    "final_elem = pd.DataFrame()\n",
    "\n",
    "count = 0\n",
    "current = 0\n",
    "goal = len(items)\n",
    "# items = ['홍스시']\n",
    "for item in items :\n",
    "    current += 1\n",
    "    print('진행상황 : ', current,'/',goal,sep=\"\")\n",
    "    # 리뷰가 없을 때의 코드\n",
    "    driver.get(\"https://map.kakao.com/\") # 카카오 지도 접속하기\n",
    "    searchbox = driver.find_element_by_xpath(\"//input[@id='search.keyword.query']\") # 검색창에 입력하기\n",
    "    searchbox.send_keys(item)\n",
    "    time.sleep(2)\n",
    "    searchbutton = driver.find_element_by_xpath(\"//button[@id='search.keyword.submit']\") # 검색버튼 누르기\n",
    "    driver.execute_script(\"arguments[0].click();\", searchbutton)\n",
    "    time.sleep(2)\n",
    "    \n",
    "    if len(driver.find_elements_by_xpath(\"//a[@class='moreview']\")) != 0:\n",
    "        print('식당 존재')\n",
    "        driver.execute_script('window.open(\"about:blank\", \"_blank\");') # 새 탭 열기\n",
    "        reviewbutton = driver.find_element_by_xpath(\"//a[@class='numberofscore']\")\n",
    "        time.sleep(2)\n",
    "        content_url = reviewbutton.get_attribute(\"href\") \n",
    "        tabs = driver.window_handles\n",
    "        driver.switch_to_window(tabs[1]) # 새 탭으로 이동\n",
    "        driver.get(content_url) # 링크 열기\n",
    "        time.sleep(3)\n",
    "        html = driver.page_source\n",
    "        soup = bs(html, 'html.parser')\n",
    "        review_lists = soup.select('.list_evaluation > li')\n",
    "        img_list = soup.select('.list_photo > li > a')\n",
    "        title = soup.select('div.inner_place > h2.tit_location')\n",
    "\n",
    "        if len(img_list) != 0 :\n",
    "            for i,v in enumerate(img_list):\n",
    "                pattern = r\"(?<=url\\().*(?='\\))\"\n",
    "                url = re.search(pattern, v[\"style\"]).group(0)\n",
    "                row = {'Spot_pk':current,\"ItemID\":item,\"ImgURL\":url[1:]}\n",
    "                row = pd.DataFrame(row, index=[i])\n",
    "                img_elem = img_elem.append(row, ignore_index=True)\n",
    "        else:\n",
    "            row = {'Spot_pk':current,\"ItemID\":item,\"ImgURL\":None}\n",
    "            row = pd.DataFrame(row, index=[0])\n",
    "            img_elem = img_elem.append(row, ignore_index=True)\n",
    "            \n",
    "        if len(review_lists) != 0 :\n",
    "            for i, review in enumerate(review_lists) :\n",
    "                user_review = review.select('.txt_comment > span') # 리뷰\n",
    "                rating = review.select('.grade_star > em') # 별점\n",
    "                user_id = review.select('.append_item > a[data-userid]') # user 정보 html 파싱\n",
    "                timestamp = review.select(' div > span.time_write') #시간정보\n",
    "                try:\n",
    "\n",
    "                    final_row = {'Spot_pk':current, \"ItemID\":title[0].text, \"UserID\":user_id[0].get('data-userid'),\"Rating\":rating[0].text[0], \"review\" : user_review[0].text, \"Timestamp\":timestamp[0].text}\n",
    "                    final_row = pd.DataFrame(final_row, index=[i])\n",
    "                    final_elem = final_elem.append(final_row, ignore_index = True)\n",
    "                \n",
    "                    \n",
    "\n",
    "                except IndexError:\n",
    "                    final_row = {'Spot_pk':current, \"ItemID\":title[0].text, \"UserID\":None,\"Rating\":rating[0].text[0], \"review\" : user_review[0].text, \"Timestamp\":timestamp[0].text}\n",
    "                    final_row = pd.DataFrame(final_row, index=[i])\n",
    "                    final_elem = final_elem.append(final_row, ignore_index = True)\n",
    "               \n",
    "                except IndexError:\n",
    "                    final_row = {'Spot_pk':current, \"ItemID\":title[0].text, \"UserID\":None,\"Rating\":rating[0].text[0], \"review\" : None, \"Timestamp\":timestamp[0].text}\n",
    "                    final_row = pd.DataFrame(final_row, index=[i])\n",
    "                    final_elem = final_elem.append(final_row, ignore_index = True)\n",
    "\n",
    "\n",
    "\n",
    "    \n",
    "        else :\n",
    "            print(\"리뷰가 없습니다\")\n",
    "#         print(img_elem)\n",
    "        try:\n",
    "            for i in range(2,11):\n",
    "                time.sleep(2)\n",
    "                another_review = driver.find_element_by_xpath(\"//a[@data-page='\" + str(i) + \"']\")\n",
    "                another_review.click()\n",
    "                time.sleep(2)\n",
    "                html = driver.page_source\n",
    "                soup = bs(html, 'html.parser')\n",
    "                review_lists = soup.select('.list_evaluation > li')\n",
    "                if len(review_lists) != 0 :\n",
    "                    for i, review in enumerate(review_lists) :\n",
    "                        user_review = review.select('.txt_comment > span') # 리뷰\n",
    "                        rating = review.select('.grade_star > em') # 별점\n",
    "                        user_id = review.select('.append_item > a[data-userid]') # user 정보 html 파싱\n",
    "                        timestamp = review.select(' div > span.time_write') #시간정보\n",
    "                        try:\n",
    "#                             row = {\"UserID\":user_id[0].get('data-userid'),\"ItemID\":item,\"Rating\":rating[0].text,\"Timestamp\":timestamp[0].text}\n",
    "#                             row = pd.DataFrame(row, index=[i])\n",
    "#                             rating_df = rating_df.append(row,ignore_index=True)\n",
    "#                             review_row = {\"UserID\":user_id[0].get('data-userid'), \"ItemID\" : item, \"review\" : user_review[0].text}\n",
    "#                             review_row = pd.DataFrame(review_row, index=[i])\n",
    "#                             review_elem = review_elem.append(review_row, ignore_index = True)\n",
    "                            #\n",
    "                            final_row = {'Spot_pk':current, \"ItemID\":title[0].text, \"UserID\":user_id[0].get('data-userid'),\"Rating\":rating[0].text[0], \"review\" : user_review[0].text, \"Timestamp\":timestamp[0].text}\n",
    "                            final_row = pd.DataFrame(final_row, index=[i])\n",
    "                            final_elem = final_elem.append(final_row, ignore_index = True)\n",
    "\n",
    "#                             time.sleep(1)\n",
    "                            \n",
    "                        except IndexError:\n",
    "\n",
    "                            final_row = {'Spot_pk':current, \"ItemID\":title[0].text, \"UserID\":None,\"Rating\":rating[0].text[0], \"review\" : user_review[0].text, \"Timestamp\":timestamp[0].text}\n",
    "                            final_row = pd.DataFrame(final_row, index=[i])\n",
    "                            final_elem = final_elem.append(final_row, ignore_index = True)\n",
    "\n",
    "                        except IndexError:\n",
    "                            final_row = {'Spot_pk':current, \"ItemID\":title[0].text, \"UserID\":None,\"Rating\":rating[0].text[0], \"review\" : None, \"Timestamp\":timestamp[0].text}\n",
    "                            final_row = pd.DataFrame(final_row, index=[i])\n",
    "                            final_elem = final_elem.append(final_row, ignore_index = True)\n",
    "\n",
    "\n",
    "\n",
    "                            \n",
    "        except:\n",
    "            print(\"더 이상 리뷰 존재 X\")\n",
    "            driver.close()\n",
    "        driver.switch_to_window(tabs[0])\n",
    "        print(\"기본 페이지로 돌아가자\")\n",
    "            \n",
    "    else:\n",
    "        print(\"장소 존재 x\")"
   ]
  },
  {
   "cell_type": "code",
   "execution_count": 7,
   "id": "fossil-rental",
   "metadata": {},
   "outputs": [
    {
     "data": {
      "text/html": [
       "<div>\n",
       "<style scoped>\n",
       "    .dataframe tbody tr th:only-of-type {\n",
       "        vertical-align: middle;\n",
       "    }\n",
       "\n",
       "    .dataframe tbody tr th {\n",
       "        vertical-align: top;\n",
       "    }\n",
       "\n",
       "    .dataframe thead th {\n",
       "        text-align: right;\n",
       "    }\n",
       "</style>\n",
       "<table border=\"1\" class=\"dataframe\">\n",
       "  <thead>\n",
       "    <tr style=\"text-align: right;\">\n",
       "      <th></th>\n",
       "      <th>Spot_pk</th>\n",
       "      <th>ItemID</th>\n",
       "      <th>UserID</th>\n",
       "      <th>Rating</th>\n",
       "      <th>review</th>\n",
       "      <th>Timestamp</th>\n",
       "    </tr>\n",
       "  </thead>\n",
       "  <tbody>\n",
       "    <tr>\n",
       "      <th>0</th>\n",
       "      <td>1</td>\n",
       "      <td>홍스시 운암점</td>\n",
       "      <td>143lma7</td>\n",
       "      <td>2</td>\n",
       "      <td>수정) 맛있고 좋았었으나 주방에서 서빙직원들에게 짜증내는것이 너무나 잦으심 그게 식...</td>\n",
       "      <td>2021.07.31.</td>\n",
       "    </tr>\n",
       "    <tr>\n",
       "      <th>1</th>\n",
       "      <td>1</td>\n",
       "      <td>홍스시 운암점</td>\n",
       "      <td>aoh6vb</td>\n",
       "      <td>1</td>\n",
       "      <td>참치초밥 포장해먹다가 너무 이상해서 잠시만 떼 먹다가 그것마저 못먹고 다 버렸어요....</td>\n",
       "      <td>2021.07.26.</td>\n",
       "    </tr>\n",
       "    <tr>\n",
       "      <th>2</th>\n",
       "      <td>1</td>\n",
       "      <td>홍스시 운암점</td>\n",
       "      <td>no33jb</td>\n",
       "      <td>5</td>\n",
       "      <td>핵 존 맛.</td>\n",
       "      <td>2021.05.20.</td>\n",
       "    </tr>\n",
       "    <tr>\n",
       "      <th>3</th>\n",
       "      <td>1</td>\n",
       "      <td>홍스시 운암점</td>\n",
       "      <td>beoki1</td>\n",
       "      <td>5</td>\n",
       "      <td></td>\n",
       "      <td>2021.03.11.</td>\n",
       "    </tr>\n",
       "    <tr>\n",
       "      <th>4</th>\n",
       "      <td>1</td>\n",
       "      <td>홍스시 운암점</td>\n",
       "      <td>vmd5tp</td>\n",
       "      <td>5</td>\n",
       "      <td>다른지역으로 이사갔는데 이만한 초밥집이 없어서 계속 생각나는 초밥집이에요 ! 광주로...</td>\n",
       "      <td>2020.08.15.</td>\n",
       "    </tr>\n",
       "    <tr>\n",
       "      <th>5</th>\n",
       "      <td>1</td>\n",
       "      <td>홍스시 운암점</td>\n",
       "      <td>k9bgcs</td>\n",
       "      <td>2</td>\n",
       "      <td>초밥을 좋아하는 사람입니다. 오늘 4번째 방문을 했는데, 처음 나온 회덥밥은 goo...</td>\n",
       "      <td>2020.08.15.</td>\n",
       "    </tr>\n",
       "    <tr>\n",
       "      <th>6</th>\n",
       "      <td>1</td>\n",
       "      <td>홍스시 운암점</td>\n",
       "      <td>uq0goe</td>\n",
       "      <td>1</td>\n",
       "      <td>1인과 2인, 2인과 3인 매뉴가 양이 똑같다는게 이해가 안가네요 2인은 59000...</td>\n",
       "      <td>2019.12.14.</td>\n",
       "    </tr>\n",
       "    <tr>\n",
       "      <th>7</th>\n",
       "      <td>1</td>\n",
       "      <td>홍스시 운암점</td>\n",
       "      <td>g938rv</td>\n",
       "      <td>1</td>\n",
       "      <td></td>\n",
       "      <td>2019.11.05.</td>\n",
       "    </tr>\n",
       "    <tr>\n",
       "      <th>8</th>\n",
       "      <td>1</td>\n",
       "      <td>홍스시 운암점</td>\n",
       "      <td>7kjo63</td>\n",
       "      <td>1</td>\n",
       "      <td>스페셜 먹었습니다. 모듬스시가 먼저 나왔는데 푸석거립니다. 한점  크기도 커서 가위...</td>\n",
       "      <td>2019.04.20.</td>\n",
       "    </tr>\n",
       "    <tr>\n",
       "      <th>9</th>\n",
       "      <td>1</td>\n",
       "      <td>홍스시 운암점</td>\n",
       "      <td>h0p700</td>\n",
       "      <td>5</td>\n",
       "      <td>생선의 질이 너무나도 좋았습니다. 사장님께서 서비스로 가지구이초밥을 주셨는데 환상적...</td>\n",
       "      <td>2018.12.27.</td>\n",
       "    </tr>\n",
       "    <tr>\n",
       "      <th>10</th>\n",
       "      <td>1</td>\n",
       "      <td>홍스시 운암점</td>\n",
       "      <td>sm22nn</td>\n",
       "      <td>5</td>\n",
       "      <td></td>\n",
       "      <td>2018.09.27.</td>\n",
       "    </tr>\n",
       "    <tr>\n",
       "      <th>11</th>\n",
       "      <td>1</td>\n",
       "      <td>홍스시 운암점</td>\n",
       "      <td>fdun21</td>\n",
       "      <td>3</td>\n",
       "      <td></td>\n",
       "      <td>2018.01.30.</td>\n",
       "    </tr>\n",
       "    <tr>\n",
       "      <th>12</th>\n",
       "      <td>1</td>\n",
       "      <td>홍스시 운암점</td>\n",
       "      <td>uvtg0d</td>\n",
       "      <td>4</td>\n",
       "      <td>참치.활어회 4만원 양도 많고 질도 좋고 비쥬얼도 좋고 근데 너무 두꺼워서 가위로 ...</td>\n",
       "      <td>2017.01.06.</td>\n",
       "    </tr>\n",
       "  </tbody>\n",
       "</table>\n",
       "</div>"
      ],
      "text/plain": [
       "    Spot_pk   ItemID   UserID Rating  \\\n",
       "0         1  홍스시 운암점  143lma7      2   \n",
       "1         1  홍스시 운암점   aoh6vb      1   \n",
       "2         1  홍스시 운암점   no33jb      5   \n",
       "3         1  홍스시 운암점   beoki1      5   \n",
       "4         1  홍스시 운암점   vmd5tp      5   \n",
       "5         1  홍스시 운암점   k9bgcs      2   \n",
       "6         1  홍스시 운암점   uq0goe      1   \n",
       "7         1  홍스시 운암점   g938rv      1   \n",
       "8         1  홍스시 운암점   7kjo63      1   \n",
       "9         1  홍스시 운암점   h0p700      5   \n",
       "10        1  홍스시 운암점   sm22nn      5   \n",
       "11        1  홍스시 운암점   fdun21      3   \n",
       "12        1  홍스시 운암점   uvtg0d      4   \n",
       "\n",
       "                                               review    Timestamp  \n",
       "0   수정) 맛있고 좋았었으나 주방에서 서빙직원들에게 짜증내는것이 너무나 잦으심 그게 식...  2021.07.31.  \n",
       "1   참치초밥 포장해먹다가 너무 이상해서 잠시만 떼 먹다가 그것마저 못먹고 다 버렸어요....  2021.07.26.  \n",
       "2                                             핵 존 맛.   2021.05.20.  \n",
       "3                                                      2021.03.11.  \n",
       "4   다른지역으로 이사갔는데 이만한 초밥집이 없어서 계속 생각나는 초밥집이에요 ! 광주로...  2020.08.15.  \n",
       "5   초밥을 좋아하는 사람입니다. 오늘 4번째 방문을 했는데, 처음 나온 회덥밥은 goo...  2020.08.15.  \n",
       "6   1인과 2인, 2인과 3인 매뉴가 양이 똑같다는게 이해가 안가네요 2인은 59000...  2019.12.14.  \n",
       "7                                                      2019.11.05.  \n",
       "8   스페셜 먹었습니다. 모듬스시가 먼저 나왔는데 푸석거립니다. 한점  크기도 커서 가위...  2019.04.20.  \n",
       "9   생선의 질이 너무나도 좋았습니다. 사장님께서 서비스로 가지구이초밥을 주셨는데 환상적...  2018.12.27.  \n",
       "10                                                     2018.09.27.  \n",
       "11                                                     2018.01.30.  \n",
       "12  참치.활어회 4만원 양도 많고 질도 좋고 비쥬얼도 좋고 근데 너무 두꺼워서 가위로 ...  2017.01.06.  "
      ]
     },
     "execution_count": 7,
     "metadata": {},
     "output_type": "execute_result"
    }
   ],
   "source": [
    "final_elem"
   ]
  },
  {
   "cell_type": "code",
   "execution_count": 8,
   "id": "multiple-breathing",
   "metadata": {},
   "outputs": [
    {
     "data": {
      "text/html": [
       "<div>\n",
       "<style scoped>\n",
       "    .dataframe tbody tr th:only-of-type {\n",
       "        vertical-align: middle;\n",
       "    }\n",
       "\n",
       "    .dataframe tbody tr th {\n",
       "        vertical-align: top;\n",
       "    }\n",
       "\n",
       "    .dataframe thead th {\n",
       "        text-align: right;\n",
       "    }\n",
       "</style>\n",
       "<table border=\"1\" class=\"dataframe\">\n",
       "  <thead>\n",
       "    <tr style=\"text-align: right;\">\n",
       "      <th></th>\n",
       "      <th>Spot_pk</th>\n",
       "      <th>ItemID</th>\n",
       "      <th>ImgURL</th>\n",
       "    </tr>\n",
       "  </thead>\n",
       "  <tbody>\n",
       "    <tr>\n",
       "      <th>0</th>\n",
       "      <td>1</td>\n",
       "      <td>홍스시</td>\n",
       "      <td>//img1.kakaocdn.net/relay/local/R640x320/?fnam...</td>\n",
       "    </tr>\n",
       "    <tr>\n",
       "      <th>1</th>\n",
       "      <td>1</td>\n",
       "      <td>홍스시</td>\n",
       "      <td>//img1.kakaocdn.net/relay/local/R640x320/?fnam...</td>\n",
       "    </tr>\n",
       "    <tr>\n",
       "      <th>2</th>\n",
       "      <td>1</td>\n",
       "      <td>홍스시</td>\n",
       "      <td>//img1.kakaocdn.net/relay/local/R640x320/?fnam...</td>\n",
       "    </tr>\n",
       "    <tr>\n",
       "      <th>3</th>\n",
       "      <td>1</td>\n",
       "      <td>홍스시</td>\n",
       "      <td>//img1.kakaocdn.net/relay/local/R640x320/?fnam...</td>\n",
       "    </tr>\n",
       "    <tr>\n",
       "      <th>4</th>\n",
       "      <td>1</td>\n",
       "      <td>홍스시</td>\n",
       "      <td>//img1.kakaocdn.net/relay/local/R640x320/?fnam...</td>\n",
       "    </tr>\n",
       "  </tbody>\n",
       "</table>\n",
       "</div>"
      ],
      "text/plain": [
       "   Spot_pk ItemID                                             ImgURL\n",
       "0        1    홍스시  //img1.kakaocdn.net/relay/local/R640x320/?fnam...\n",
       "1        1    홍스시  //img1.kakaocdn.net/relay/local/R640x320/?fnam...\n",
       "2        1    홍스시  //img1.kakaocdn.net/relay/local/R640x320/?fnam...\n",
       "3        1    홍스시  //img1.kakaocdn.net/relay/local/R640x320/?fnam...\n",
       "4        1    홍스시  //img1.kakaocdn.net/relay/local/R640x320/?fnam..."
      ]
     },
     "execution_count": 8,
     "metadata": {},
     "output_type": "execute_result"
    }
   ],
   "source": [
    "img_elem"
   ]
  },
  {
   "cell_type": "code",
   "execution_count": null,
   "id": "directed-presence",
   "metadata": {},
   "outputs": [],
   "source": [
    "#저장\n",
    "final_elem.to_csv('review_data.csv',encoding='euc-kr',index=False)\n",
    "img_elem.to_csv('img_data.csv',encoding='euc-kr',index=False)"
   ]
  }
 ],
 "metadata": {
  "kernelspec": {
   "display_name": "Python 3",
   "language": "python",
   "name": "python3"
  },
  "language_info": {
   "codemirror_mode": {
    "name": "ipython",
    "version": 3
   },
   "file_extension": ".py",
   "mimetype": "text/x-python",
   "name": "python",
   "nbconvert_exporter": "python",
   "pygments_lexer": "ipython3",
   "version": "3.8.8"
  },
  "toc": {
   "base_numbering": 1,
   "nav_menu": {},
   "number_sections": true,
   "sideBar": true,
   "skip_h1_title": false,
   "title_cell": "Table of Contents",
   "title_sidebar": "Contents",
   "toc_cell": false,
   "toc_position": {},
   "toc_section_display": true,
   "toc_window_display": false
  }
 },
 "nbformat": 4,
 "nbformat_minor": 5
}
